{
 "cells": [
  {
   "cell_type": "code",
   "execution_count": 1,
   "metadata": {
    "collapsed": false
   },
   "outputs": [],
   "source": [
    "from PIL import Image\n",
    "import scipy as sp\n",
    "import numpy as np\n",
    "import scipy.signal as sn\n",
    "import matplotlib.pyplot as plt\n",
    "from skimage.feature import match_template\n",
    "import matplotlib.cm as cm\n",
    "import numpy as np\n",
    "from scipy.ndimage.filters import maximum_filter\n",
    "from scipy.ndimage.morphology import generate_binary_structure, binary_erosion\n",
    "import matplotlib.pyplot as pp\n",
    "from sklearn.neighbors import KDTree\n",
    "\n",
    "import os\n",
    "import time\n",
    "import argparse\n",
    "import skimage.io\n",
    "import scipy.optimize as opt\n",
    "from matplotlib.patches import Circle\n",
    "from matplotlib.collections import PatchCollection\n",
    "from skimage.feature import peak_local_max\n",
    "import matplotlib.colors as colors\n",
    "import photutils as pu\n",
    "from photutils.background import Background\n",
    "from sklearn.neighbors import KDTree\n",
    "from scipy.ndimage.filters import gaussian_filter\n",
    "import itertools\n",
    "\n",
    "errmsgs = np.seterr(all='ignore') # silence warning messages about div-by-zero\n"
   ]
  },
  {
   "cell_type": "code",
   "execution_count": 2,
   "metadata": {
    "collapsed": true
   },
   "outputs": [],
   "source": [
    "def nnn_map(X, NN=4):\n",
    "    \"\"\"\n",
    "    Takes any n-dimensional array X and returns NN nearest neighbors and distances in\n",
    "    a format that helps with visualizing bonds between nearest neighbors\n",
    "    \n",
    "    Inputs: \n",
    "          X       : Array of coordinates\n",
    "          NN      : Number of nearest neighbors to compute\n",
    "    \n",
    "    Outputs:\n",
    "          idxbond : Format is below. Makes it easy to plot bonds.\n",
    "                    ...\n",
    "                    i  ,  nn1\n",
    "                    i  ,  nn2\n",
    "                    i  ,  nn3\n",
    "                    ...\n",
    "                    i  ,  nnNN\n",
    "                    i+1,  nn1\n",
    "                    ...\n",
    "          \n",
    "          bonddist:\n",
    "                    ...\n",
    "                    dist(i,nn1)\n",
    "                    dist(i,nn2)\n",
    "                    dist(i,nn3)\n",
    "                    ...\n",
    "                    dist(i, nnNN)\n",
    "                    dist(i+1, nn1)\n",
    "                    ...\n",
    "    \"\"\"  \n",
    "    NN+=1\n",
    "    \n",
    "    kdt = KDTree(X, leaf_size=30, metric='euclidean')\n",
    "    dist,idx=kdt.query(X, k=NN, return_distance=True)          \n",
    "    \n",
    "    idxbond=[]\n",
    "    for i in idx:\n",
    "        for j in itertools.product(np.array([i[0]]),np.array(i[1:])):\n",
    "            idxbond.append(j)\n",
    "    idxbond=np.array(idxbond)\n",
    "    \n",
    "    bonddist=[]        \n",
    "    for i in dist:\n",
    "        for j in itertools.product(np.array([i[0]]),np.array(i[1:])):\n",
    "            bonddist.append(j)        \n",
    "    bonddist=np.array(bonddist)\n",
    "    bonddist=bonddist[:,1]\n",
    "    return idxbond, bonddist"
   ]
  },
  {
   "cell_type": "code",
   "execution_count": 3,
   "metadata": {
    "collapsed": true
   },
   "outputs": [],
   "source": [
    "def twoD_Gaussian((x, y), amplitude, xo, yo, sigma_x, sigma_y, theta):\n",
    "    xo = float(xo)\n",
    "    yo = float(yo)    \n",
    "    a = (np.cos(theta)**2)/(2*sigma_x**2) + (np.sin(theta)**2)/(2*sigma_y**2)\n",
    "    b = -(np.sin(2*theta))/(4*sigma_x**2) + (np.sin(2*theta))/(4*sigma_y**2)\n",
    "    c = (np.sin(theta)**2)/(2*sigma_x**2) + (np.cos(theta)**2)/(2*sigma_y**2)\n",
    "    g = amplitude*np.exp( - (a*((x-xo)**2) + 2*b*(x-xo)*(y-yo) \n",
    "                            + c*((y-yo)**2)))\n",
    "    return g.ravel()   "
   ]
  },
  {
   "cell_type": "code",
   "execution_count": 4,
   "metadata": {
    "collapsed": true
   },
   "outputs": [],
   "source": [
    "def to_rgb(minimum, maximum, value):\n",
    "    minimum, maximum = float(minimum), float(maximum)\n",
    "    ratio = 2 * (value-minimum) / (maximum - minimum)\n",
    "    b = int(max(0, 255*(1 - ratio)))\n",
    "    r = int(max(0, 255*(ratio - 1)))\n",
    "    g = 255 - b - r\n",
    "    return np.array([r, g, b])"
   ]
  },
  {
   "cell_type": "code",
   "execution_count": 5,
   "metadata": {
    "collapsed": true
   },
   "outputs": [],
   "source": [
    "def get_fft(im):\n",
    "    return np.fft.fftshift(np.fft.fft2(im))\n",
    "\n",
    "def get_ifft(f):\n",
    "    return np.abs(np.fft.ifft2(np.fft.fftshift(f)))\n",
    "\n",
    "def show_im(im):\n",
    "    fig,ax=plt.subplots()\n",
    "    ax.matshow(im,cmap=cm.Greys_r)\n",
    "    plt.show()\n",
    "\n",
    "def show_fft(f):\n",
    "    fig,ax = plt.subplots()\n",
    "    ax.matshow(np.log(np.abs(f)**2+1), cmap=cm.Greys_r)\n",
    "    plt.show()\n"
   ]
  },
  {
   "cell_type": "code",
   "execution_count": 6,
   "metadata": {
    "collapsed": true
   },
   "outputs": [],
   "source": [
    "fwhm=6\n",
    "npix=1000\n",
    "scale=80\n",
    "NN=5"
   ]
  },
  {
   "cell_type": "code",
   "execution_count": 7,
   "metadata": {
    "collapsed": false
   },
   "outputs": [],
   "source": [
    "A=Image.open('SUM_08_stack30_ADF130mm_1024_2.55Mx_1us_+100degRot_1.tif')\n",
    "imarray=np.array(A)\n",
    "imarray=imarray/np.std(imarray)\n",
    "\n",
    "#Background Subtract\n",
    "bkg = Background(imarray, (20, 20), filter_shape=(4, 4), method='median')\n",
    "imbckgsub=imarray-bkg.background\n",
    "#imbckgsub=imarray\n",
    "\n",
    "#Find peak positions and intensities using daofind method\n",
    "A=pu.daofind(imbckgsub,0,fwhm,exclude_border=True)\n",
    "x=np.array(A.field(1))\n",
    "y=np.array(A.field(2))\n",
    "peakintensity=np.array(A.field(8))\n",
    "\n",
    "#Find NN nearest neighbors for each peak\n",
    "X=np.vstack((x,y)).T\n",
    "kdt = KDTree(X, leaf_size=30, metric='euclidean')\n",
    "dist,idx=kdt.query(X, k=NN, return_distance=True)          \n",
    "dist=dist[:,1:]"
   ]
  },
  {
   "cell_type": "code",
   "execution_count": 907,
   "metadata": {
    "collapsed": false,
    "scrolled": true
   },
   "outputs": [],
   "source": [
    "plt.matshow(imarray, cmap=cm.Blues_r)\n",
    "plt.plot(np.arange(npix-scale-10,npix-10), 20*np.ones(scale),'w-',ms=2,lw=4)\n",
    "plt.xlim(0,npix)\n",
    "plt.ylim(0,npix)\n",
    "plt.xticks([]) \n",
    "plt.yticks([]) \n",
    "plt.title('Unfiltered Image')\n",
    "\n",
    "\n",
    "plt.matshow(bkg.background, cmap=cm.gist_heat)\n",
    "plt.plot(np.arange(npix-scale-10,npix-10), 20*np.ones(scale),'w-',ms=2,lw=4)\n",
    "plt.xlim(0,npix)\n",
    "plt.ylim(0,npix)\n",
    "plt.title('Background')\n",
    "plt.yticks([]) \n",
    "plt.xticks([]) \n",
    "plt.colorbar()\n",
    "\n",
    "\n",
    "plt.matshow(imbckgsub,cmap=cm.jet)\n",
    "plt.plot(np.arange(npix-scale-10,npix-10), 20*np.ones(scale),'w-',ms=2,lw=4)\n",
    "plt.xlim(0,npix)\n",
    "plt.ylim(0,npix)\n",
    "plt.yticks([]) \n",
    "plt.xticks([]) \n",
    "plt.title('Background Subtracted Image')\n",
    "\n",
    "plt.figure()\n",
    "\n",
    "plt.plot(x,y,'r.',ms=3.5)\n",
    "plt.plot(np.arange(npix-scale-10,npix-10), 20*np.ones(scale),'w-',ms=2,lw=4)\n",
    "plt.xlim(0,npix)\n",
    "plt.ylim(0,npix)\n",
    "plt.xticks([]) \n",
    "plt.yticks([]) \n",
    "plt.imshow(imbckgsub, cmap=cm.Blues_r,interpolation='nearest')\n",
    "plt.colorbar()\n",
    "plt.title('Background Subtracted Image Overlaid with Gaussian Fitted Peaks')\n",
    "plt.show()"
   ]
  },
  {
   "cell_type": "code",
   "execution_count": 8,
   "metadata": {
    "collapsed": true
   },
   "outputs": [],
   "source": [
    "#Assigning species by intensity\n",
    "int_sep=2.02\n",
    "\n",
    "idxA=peakintensity>int_sep\n",
    "idxB=peakintensity<=int_sep\n",
    "\n",
    "#Correcting for species assignment using structural/coordination prior\n",
    "whereA=np.array(np.where(idxA==True)).ravel()\n",
    "whereB=np.array(np.where(idxB==True)).ravel()\n",
    "\n",
    "chemenA=[]\n",
    "chemenB=[]\n",
    "for i in idx:\n",
    "    maskA=np.in1d(i,whereA)\n",
    "    maskB=np.in1d(i,whereB)\n",
    "    chemenA.append(maskA)\n",
    "    chemenB.append(maskB)\n",
    "\n",
    "chemenA=np.array(chemenA)\n",
    "chemenA.astype(int)\n",
    "\n",
    "chemenB=np.array(chemenB)\n",
    "chemenB.astype(int)\n",
    "\n",
    "#Outliers where a B-site (A-site) replaces an A-site (B-site)\n",
    "idxoutliersA=np.sum(chemenA,1)==5\n",
    "idxoutliersB=np.sum(chemenB,1)==5\n",
    "\n",
    "outliersA=np.array(np.where(np.sum(chemenA,1)==5)).ravel()\n",
    "outliersB=np.array(np.where(np.sum(chemenB,1)==5)).ravel()\n",
    "\n",
    "idxACorrected=idxA-idxoutliersA+idxoutliersB\n",
    "idxBCorrected=idxB-idxoutliersB+idxoutliersA"
   ]
  },
  {
   "cell_type": "code",
   "execution_count": 60,
   "metadata": {
    "collapsed": false
   },
   "outputs": [],
   "source": [
    "plt.imshow(imbckgsub, cmap=cm.Blues_r,interpolation='nearest')\n",
    "plt.plot(x[idxA],y[idxA],'ro',ms=4.5)\n",
    "plt.plot(x[idxB],y[idxB],'yo',ms=4.5)\n",
    "plt.xlim(0,npix)\n",
    "plt.ylim(0,npix)\n",
    "plt.xticks([]) \n",
    "plt.yticks([]) \n",
    "plt.plot(np.arange(npix-scale-10,npix-10), 20*np.ones(scale),'w-',ms=2,lw=4)\n",
    "plt.title('First Pass')\n",
    "\n",
    "plt.figure()\n",
    "plt.imshow(imbckgsub, cmap=cm.Blues_r,interpolation='nearest')\n",
    "plt.plot(x[idx[outliersA][:,0]],y[idx[outliersA][:,0]],'b*',ms=8)\n",
    "plt.plot(x[idx[outliersB][:,0]],y[idx[outliersB][:,0]],'k*',ms=8)\n",
    "plt.xlim(0,npix)\n",
    "plt.ylim(0,npix)\n",
    "plt.xticks([]) \n",
    "plt.yticks([]) \n",
    "plt.plot(np.arange(npix-scale-10,npix-10), 20*np.ones(scale),'w-',ms=2,lw=4)\n",
    "plt.title('Outlier Detection Using Nearest Neighbor')\n",
    "\n",
    "\n",
    "plt.figure()\n",
    "plt.imshow(imbckgsub, cmap=cm.Blues_r,interpolation='nearest')\n",
    "plt.plot(x[idxACorrected],y[idxACorrected],'ro',ms=4.5)\n",
    "plt.plot(x[idxBCorrected],y[idxBCorrected],'yo',ms=4.5)\n",
    "plt.title('Detected Species With Nearest Neighbor Fix')\n",
    "plt.plot(np.arange(npix-scale-10,npix-10), 20*np.ones(scale),'w-',ms=2,lw=4)\n",
    "plt.xlim(0,npix)\n",
    "plt.ylim(0,npix)\n",
    "plt.xticks([]) \n",
    "plt.yticks([]) \n",
    "\n",
    "plt.show()"
   ]
  },
  {
   "cell_type": "markdown",
   "metadata": {
    "collapsed": false
   },
   "source": [
    "<p style=\"font-size:190%;\"<b>Figures for M & M abstract</b>.</p>"
   ]
  },
  {
   "cell_type": "code",
   "execution_count": null,
   "metadata": {
    "collapsed": true
   },
   "outputs": [],
   "source": [
    "#Intensity histograms of A+B and corrected A, B\n",
    "\n",
    "bins = np.linspace(-.5, 6., 100)\n",
    "plt.hist(peakintensity.ravel(),bins,histtype='bar',alpha=0.2,color='k',label='A & B')\n",
    "plt.hist(peakintensity[idxACorrected],bins,histtype='step',lw=3,color='r',alpha=.5,label='A Only')\n",
    "plt.hist(peakintensity[idxBCorrected],bins,histtype='step',lw=3,color='#00ced6',alpha=1,label='B Only')\n",
    "plt.ylim(2,900)\n",
    "plt.xlim(-.0,5.5)\n",
    "plt.xticks([])\n",
    "plt.yticks(np.arange(0,1000,200))\n",
    "\n",
    "plt.xlabel('Intensity (a.u.)', fontsize=25.)\n",
    "plt.ylabel('Counts',fontsize=25.)\n",
    "\n",
    "p1, = plt.plot([0,0],'o',ms=10,color='k', label='A+B',alpha=0.3)\n",
    "p2, = plt.plot([0,0],'o',ms=10,color='r',label='A sublattice')\n",
    "p3, = plt.plot([0,0], 'o',ms=10,color='#00ced6',label='B sublattice')\n",
    "plt.tick_params(labelsize=22)\n",
    "\n",
    "# create the legend\n",
    "lg=plt.legend([p1,p2, p3], ['A & B', 'A sublattice', 'B sublattice'], loc='best',numpoints=1,frameon=False,prop={'size':20})\n",
    "lg.draw_frame=False\n",
    "p1.set_visible(False)\n",
    "p2.set_visible(False)\n",
    "p3.set_visible(False)\n",
    "#plt.legend(loc='upper right')\n",
    "plt.savefig('Histogram_AB_sublattice.png', format='png')\n",
    "plt.show()"
   ]
  },
  {
   "cell_type": "code",
   "execution_count": 42,
   "metadata": {
    "collapsed": false
   },
   "outputs": [],
   "source": [
    "#2016 M&M Abstract: Figure 2c,d: HAADF image + HAADF image overlaid with corrected A,B \n",
    "plt.imshow(imarray, cmap=cm.Greys_r,interpolation='nearest')\n",
    "\n",
    "plt.xlim(200,400)\n",
    "plt.ylim(200,400)\n",
    "plt.plot(225,227,'s',ms=10)\n",
    "plt.plot(242,244,'s',ms=10)\n",
    "\n",
    "plt.xticks([]) \n",
    "plt.yticks([]) \n",
    "plt.plot(np.arange(364,390), 213*np.ones(26),'w-',ms=2,lw=7)\n",
    "plt.text(363, 202, '1 nm', fontsize=18,fontweight='bold',color='white', withdash=False)\n",
    "#plt.savefig('ADFwo.png', format='png')\n",
    "\n",
    "plt.figure()\n",
    "plt.imshow(imbckgsub, cmap=cm.Greys_r,interpolation='nearest')\n",
    "plt.plot(x[idxACorrected],y[idxACorrected],'ro',ms=7.,alpha=0.5)\n",
    "plt.plot(x[idxBCorrected],y[idxBCorrected],'o',color='#00ced6',ms=7.,alpha=0.7)\n",
    "plt.xlim(200,400)\n",
    "plt.ylim(200,400)\n",
    "plt.xticks([]) \n",
    "plt.yticks([]) \n",
    "plt.plot(np.arange(364,390), 213*np.ones(26),'w-',ms=2,lw=7)\n",
    "plt.text(363, 202, '1 nm', fontsize=18,fontweight='bold',color='white', withdash=False)\n",
    "#plt.savefig('ADFwP.png', format='png')\n",
    "plt.show()"
   ]
  },
  {
   "cell_type": "markdown",
   "metadata": {
    "collapsed": false
   },
   "source": [
    "<p style=\"font-size:190%;\"<b>Displacement of B sublattice relative to COM of A sublattice</b>.</p>"
   ]
  },
  {
   "cell_type": "code",
   "execution_count": 606,
   "metadata": {
    "collapsed": false
   },
   "outputs": [],
   "source": [
    "#Generate displacement plot of B relative to center of mass of A sites\n",
    "idxbulk=(x>20)*(y>20)*(x<npix-80)*(y<npix-80)\n",
    "idxquiver=idxBCorrected*idxbulk\n",
    "\n",
    "x_center=np.mean(x[idx[idxquiver][:,1:]],1)\n",
    "y_center=np.mean(y[idx[idxquiver][:,1:]],1)\n",
    "\n",
    "d=np.sqrt((x_center-x[idxquiver])**2+(y_center-y[idxquiver])**2)\n",
    "theta=np.arctan(np.abs(y_center-y[idxquiver])/np.abs(x_center-x[idxquiver]) ) \n",
    "\n",
    "\n",
    "plt.quiver(x[idxquiver], y[idxquiver], x_center-x[idxquiver], y_center-y[idxquiver],d,\n",
    "           units = 'xy',scale=0.1, width=2.8)\n",
    "plt.xticks([])\n",
    "plt.yticks([])\n",
    "\n",
    "plt.xlim(0,npix)\n",
    "plt.ylim(0, npix)\n",
    "\n",
    "plt.title('B site Displacement Map')\n",
    "\n",
    "plt.show()"
   ]
  },
  {
   "cell_type": "code",
   "execution_count": 19,
   "metadata": {
    "collapsed": false
   },
   "outputs": [],
   "source": [
    "#Write x,y coordinates of A,B sublattices\n",
    "filename='08_Titan_BSCMO'\n",
    "count=1\n",
    "with open(filename, 'w+') as f:\n",
    "    f.write('# BSCMO 26_stack5HAADF_fov30nm_t32us_1024px_SUM.tif\\n')\n",
    "    f.write('# A-Site x    A-site y    B-site x     B-site y\\n')\n",
    "    for (i,j,k,l) in zip(x[idxACorrected], y[idxACorrected], x[idxBCorrected],y[idxBCorrected]):\n",
    "        f.write('% 9.4f   %9.4f    % 9.4f   %9.4f\\n' %(i,j,k,l))\n",
    "        "
   ]
  },
  {
   "cell_type": "markdown",
   "metadata": {
    "collapsed": false
   },
   "source": [
    "<p style=\"font-size:190%;\"<b>Generate Gaussian Fake images</b>.</p>"
   ]
  },
  {
   "cell_type": "code",
   "execution_count": 36,
   "metadata": {
    "collapsed": false
   },
   "outputs": [],
   "source": [
    "xg = np.linspace(225,260 ,61 )\n",
    "yg = np.linspace(227, 262, 61)\n",
    "xg, yg = np.meshgrid(xg, yg)\n",
    "\n",
    "dataA=0\n",
    "#create data\n",
    "for (i,j,k) in zip(x[idxACorrected],y[idxACorrected],peakintensity[idxACorrected]):\n",
    "    dataA = dataA + twoD_Gaussian((xg, yg), k,i,j, 1.8, 1.8, 0)\n",
    "\n",
    "dataB=0\n",
    "#create data\n",
    "for (i,j,k) in zip(x[idxBCorrected],y[idxBCorrected],peakintensity[idxBCorrected]):\n",
    "    dataB = dataB + twoD_Gaussian((xg, yg), k, i,j, 1.4, 1.4, 0)"
   ]
  },
  {
   "cell_type": "code",
   "execution_count": 234,
   "metadata": {
    "collapsed": false
   },
   "outputs": [
    {
     "name": "stderr",
     "output_type": "stream",
     "text": [
      "/home/ismail/anaconda/lib/python2.7/site-packages/numpy/core/numeric.py:474: ComplexWarning: Casting complex values to real discards the imaginary part\n",
      "  return array(a, dtype, copy=False, order=order)\n",
      "/home/ismail/anaconda/lib/python2.7/site-packages/numpy/ma/core.py:3093: ComplexWarning: Casting complex values to real discards the imaginary part\n",
      "  output = self._data.astype(newtype).view(type(self))\n"
     ]
    }
   ],
   "source": [
    "#3D visualization of 2D image\n",
    "\n",
    "from mpl_toolkits.mplot3d import Axes3D\n",
    "fig = plt.figure()\n",
    "ax = fig.gca(projection='3d')\n",
    "surf = ax.plot_surface(xg, yg, data.reshape(), rstride=1, cstride=1, cmap=cm.viridis,\n",
    "                       linewidth=0, antialiased=False)\n",
    "ax.zaxis.limit_range_for_scale(0,10)\n",
    "plt.xticks([])\n",
    "plt.yticks([])\n",
    "#fig.colorbar(surf, shrink=0.5, aspect=5,)\n",
    "ax.zaxis.limit_range_for_scale(0,20)\n",
    "ax.axis('off')\n",
    "ax.set_axis_off()\n",
    "plt.show()"
   ]
  },
  {
   "cell_type": "markdown",
   "metadata": {
    "collapsed": true
   },
   "source": [
    "<p style=\"font-size:190%;\"<b>Bond Length Mapping</b>.</p>"
   ]
  },
  {
   "cell_type": "code",
   "execution_count": 46,
   "metadata": {
    "collapsed": false
   },
   "outputs": [],
   "source": [
    "idxbulk=(x>20)*(y>20)*(x<npix-160)*(y<npix-160)\n",
    "\n",
    "XA=np.vstack((x[idxBCorrected*idxbulk],y[idxBCorrected*idxbulk])).T\n",
    "idxbondAA, bonddistAA=nnn_map(XA,8)\n",
    "\n",
    "minbond=12.8\n",
    "maxbond=16.6\n",
    "idd1=bonddistAA>minbond \n",
    "idd2=bonddistAA<maxbond\n",
    "cNorm  = colors.Normalize(vmin=minbond-np.mean(bonddistAA[idd1*idd2]), vmax=maxbond-np.mean(bonddistAA[idd1*idd2]))\n",
    "scalarMap = cm.ScalarMappable(norm=cNorm, cmap=cm.coolwarm)"
   ]
  },
  {
   "cell_type": "code",
   "execution_count": 47,
   "metadata": {
    "collapsed": true
   },
   "outputs": [],
   "source": [
    "plt.imshow(imbckgsub, cmap=cm.Blues, interpolation='nearest',alpha=0.5)\n",
    "\n",
    "colorvalues=[]\n",
    "for i,j in zip(idxbondAA, bonddistAA):\n",
    "        if j>minbond and j<maxbond: \n",
    "        \n",
    "            colorVal = scalarMap.to_rgba(j-np.mean(bonddistAA[idd1*idd2]))\n",
    "            colorvalues.append(colorVal)\n",
    "            plt.plot(XA[:,0][i], XA[:,1][i],'-',lw=2,color=colorVal) \n",
    "    \n",
    "plt.plot(x[idxACorrected],y[idxACorrected],'r.', ms=3)\n",
    "plt.plot(x[idxBCorrected],y[idxBCorrected],'b.', ms=3)\n",
    "scalarMap.set_array(np.array(colorvalues))\n",
    "plt.colorbar(scalarMap)\n",
    "plt.xlim(30,820)\n",
    "plt.ylim(30,820)\n",
    "plt.title('BB bond lengths along CO modulation direction [101pc]')\n",
    "plt.show()"
   ]
  },
  {
   "cell_type": "markdown",
   "metadata": {
    "collapsed": false
   },
   "source": [
    "<p style=\"font-size:190%;\"<b>Fourier Filtering Analysis</b>.</p>"
   ]
  },
  {
   "cell_type": "code",
   "execution_count": 11,
   "metadata": {
    "collapsed": false
   },
   "outputs": [],
   "source": [
    "#FFT\n",
    "f=get_fft(imbckgsub)\n",
    "fftmag=np.log(np.abs(f)**2)\n",
    "\n",
    "#Bragg Peak Detection\n",
    "braggpk=pu.daofind(gaussian_filter(fftmag,4),4,12,exclude_border=True)\n",
    "xbraggpk=np.array(braggpk.field(1))\n",
    "ybraggpk=np.array(braggpk.field(2))\n",
    "\n",
    "xbraggpk=np.append(xbraggpk,[512.])\n",
    "ybraggpk=np.append(ybraggpk,[512.])\n",
    "\n",
    "braggpkintensity=np.array(braggpk.field(8))"
   ]
  },
  {
   "cell_type": "code",
   "execution_count": 12,
   "metadata": {
    "collapsed": false
   },
   "outputs": [],
   "source": [
    "#Bragg Peak Indexing\n",
    "idxcenterx=np.array(np.abs(xbraggpk-.5*np.shape(f)[0])<1e-2)\n",
    "idxcentery=np.array(np.abs(ybraggpk-.5*np.shape(f)[0])<1e-2)\n",
    "\n",
    "idxcenter= np.where(idxcenterx*idxcentery==True)\n",
    "Xbragg=np.vstack((xbraggpk,ybraggpk)).T\n",
    "kdtbragg = KDTree(Xbragg, leaf_size=30, metric='euclidean')\n",
    "distbragg,idxbragg=kdtbragg.query(Xbragg, k=13, return_distance=True)          "
   ]
  },
  {
   "cell_type": "code",
   "execution_count": 22,
   "metadata": {
    "collapsed": false
   },
   "outputs": [],
   "source": [
    "#Bragg Peak Selection\n",
    "pk=idxbragg[-1,6:8]\n",
    "pk=np.array(pk)\n",
    "plt.matshow(fftmag,cmap=cm.Greys_r)\n",
    "plt.plot(xbraggpk,ybraggpk,'.')\n",
    "plt.plot(xbraggpk[pk],ybraggpk[pk],'r.', ms=6)\n",
    "plt.show()"
   ]
  },
  {
   "cell_type": "code",
   "execution_count": 23,
   "metadata": {
    "collapsed": false
   },
   "outputs": [],
   "source": [
    "# Make Hann window\n",
    "f=get_fft(imarray)\n",
    "radius = 15\n",
    "hann = np.outer(np.hanning(2*radius+1),np.hanning(2*radius+1))\n",
    "mask = np.zeros(np.shape(f))\n",
    "try:\n",
    "    for i in pk:\n",
    "        mask[ybraggpk[i]-radius:ybraggpk[i]+radius+1,xbraggpk[i]-radius:xbraggpk[i]+radius+1] += hann\n",
    "except TypeError:\n",
    "    print \"ERROR! Need to select +Q and -Q to filter. Proceeding but results will not be meaningful\"\n",
    "    mask[ybraggpk[pk]-radius:ybraggpk[pk]+radius+1,xbraggpk[pk]-radius:xbraggpk[pk]+radius+1] += hann"
   ]
  },
  {
   "cell_type": "code",
   "execution_count": 25,
   "metadata": {
    "collapsed": false
   },
   "outputs": [],
   "source": [
    "filtered_fft = f*mask\n",
    "filtered_im = np.fft.ifft2(np.fft.ifftshift(filtered_fft))\n",
    "\n",
    "plt.matshow(np.log(np.abs(filtered_fft)),cmap=cm.Greys_r)\n",
    "plt.matshow(np.abs(filtered_im),cmap=cm.Greys_r)\n",
    "\n",
    "plt.show()"
   ]
  },
  {
   "cell_type": "code",
   "execution_count": null,
   "metadata": {
    "collapsed": false
   },
   "outputs": [],
   "source": []
  },
  {
   "cell_type": "code",
   "execution_count": 209,
   "metadata": {
    "collapsed": false
   },
   "outputs": [],
   "source": [
    "#Shift to Origin\n",
    "f2=f.copy()\n",
    "\n",
    "non = lambda s: s if s<0 else None\n",
    "mom = lambda s: max(0,s)\n",
    "\n",
    "ox, oy = -(xbraggpk[pk]-xbraggpk[idxcenter]), -(ybraggpk[pk]-ybraggpk[idxcenter]) \n",
    "\n",
    "shift_f2 = np.zeros_like(f2)\n",
    "shift_f2[mom(oy):non(oy), mom(ox):non(ox)] = f2[mom(-oy):non(-oy), mom(-ox):non(-ox)]"
   ]
  },
  {
   "cell_type": "code",
   "execution_count": 206,
   "metadata": {
    "collapsed": false
   },
   "outputs": [],
   "source": [
    "#Circular Mask\n",
    "shift_f2_an=shift_f2.copy()\n",
    "shift_f2_circle=shift_f2.copy()\n",
    "\n",
    "for i in np.linspace(-511.,511.,1024):\n",
    "    for j in np.linspace(-511.,511.,1024):\n",
    "      \n",
    "        if (i)**2 + (j-1)**2 > 3**2:\n",
    "                shift_f2_an[512-i,512-j]=0\n",
    "                shift_f2_circle[512-i,512-j]=0\n"
   ]
  },
  {
   "cell_type": "code",
   "execution_count": 26,
   "metadata": {
    "collapsed": false
   },
   "outputs": [
    {
     "ename": "NameError",
     "evalue": "name 'braggfilter' is not defined",
     "output_type": "error",
     "traceback": [
      "\u001b[1;31m---------------------------------------------------------------------------\u001b[0m",
      "\u001b[1;31mNameError\u001b[0m                                 Traceback (most recent call last)",
      "\u001b[1;32m<ipython-input-26-925017f847d5>\u001b[0m in \u001b[0;36m<module>\u001b[1;34m()\u001b[0m\n\u001b[1;32m----> 1\u001b[1;33m \u001b[0mftimage_an\u001b[0m\u001b[1;33m=\u001b[0m\u001b[0msp\u001b[0m\u001b[1;33m.\u001b[0m\u001b[0mfftpack\u001b[0m\u001b[1;33m.\u001b[0m\u001b[0mifft2\u001b[0m\u001b[1;33m(\u001b[0m\u001b[0mbraggfilter\u001b[0m\u001b[1;33m.\u001b[0m\u001b[0mreshape\u001b[0m\u001b[1;33m(\u001b[0m\u001b[1;36m1024\u001b[0m\u001b[1;33m,\u001b[0m\u001b[1;36m1024\u001b[0m\u001b[1;33m)\u001b[0m\u001b[1;33m)\u001b[0m\u001b[1;33m\u001b[0m\u001b[0m\n\u001b[0m",
      "\u001b[1;31mNameError\u001b[0m: name 'braggfilter' is not defined"
     ]
    }
   ],
   "source": [
    "ftimage_an=sp.fftpack.ifft2(braggfilter.reshape(1024,1024))"
   ]
  },
  {
   "cell_type": "code",
   "execution_count": 245,
   "metadata": {
    "collapsed": false
   },
   "outputs": [],
   "source": [
    "plt.imshow(imbckgsub  ,cmap=cm.Greys, interpolation='nearest', )\n",
    "plt.imshow(np.abs(ftimage_an)  ,cmap=cm.Greys_r, interpolation='nearest', alpha=1.00)\n",
    "plt.colorbar()\n",
    "plt.plot(x[idxBCorrected],y[idxBCorrected],'ko',ms=2)\n",
    "plt.xticks([])\n",
    "plt.yticks([])\n",
    "plt.xlim(0,1000)\n",
    "plt.ylim(0,1000)\n",
    "plt.show()"
   ]
  },
  {
   "cell_type": "markdown",
   "metadata": {},
   "source": [
    "<p style=\"font-size:190%;\"<b>Generate a lattice + structural modulation and calculate the FFT</b>.</p>"
   ]
  },
  {
   "cell_type": "code",
   "execution_count": 18,
   "metadata": {
    "collapsed": false
   },
   "outputs": [],
   "source": [
    "from structure import UnitCell\n",
    "from structure import Supercell"
   ]
  },
  {
   "cell_type": "code",
   "execution_count": 19,
   "metadata": {
    "collapsed": false
   },
   "outputs": [],
   "source": [
    "def recipTransform(posX, posY, a, kmax, N):\n",
    "    #Take the reciprocal transform of a series of delta functions at posX, posY\n",
    "    #posY and posX and 'a' need to be equal length\n",
    "\n",
    "    kx=np.arange(-kmax,(kmax-kmax/N),kmax/N)\n",
    "    ky=np.arange(-kmax,(kmax-kmax/N),kmax/N)\n",
    "    kx,ky=np.meshgrid(kx,ky)               \n",
    "\n",
    "    zz = np.zeros(np.size(kx,1)) + 0*1j\n",
    "    for j in np.arange(0,np.size(posX)):\n",
    "        zz = zz + np.exp( 2*np.pi*1j * ((posX[j]*kx)+(posY[j]*ky)) )\n",
    "    return kx,ky,zz "
   ]
  },
  {
   "cell_type": "code",
   "execution_count": 170,
   "metadata": {
    "collapsed": false
   },
   "outputs": [],
   "source": [
    "A=UnitCell('0.5 0.5 0.5 ', ['B'], 10)\n",
    "B=Supercell(A,np.array([[90,0,0],[0,90,0],[0,0,1]]))\n",
    "Bcoords=B.coords\n",
    "xB=Bcoords[:,0]*1024.\n",
    "yB=Bcoords[:,1]*1024.\n",
    "plt.plot(xB,yB,'.')\n",
    "plt.show()"
   ]
  },
  {
   "cell_type": "code",
   "execution_count": 624,
   "metadata": {
    "collapsed": false
   },
   "outputs": [],
   "source": [
    "modux=np.sin(((2.*np.pi/10)*0.333333*xB+np.pi/4))\n",
    "plt.plot(modux,'.')\n",
    "plt.show()"
   ]
  },
  {
   "cell_type": "code",
   "execution_count": 173,
   "metadata": {
    "collapsed": false
   },
   "outputs": [],
   "source": [
    "plt.plot(xB,yB,'.',ms=6)\n",
    "plt.plot(xB+0.9*modux,yB,'k.',ms=6)\n",
    "plt.show()"
   ]
  },
  {
   "cell_type": "code",
   "execution_count": 174,
   "metadata": {
    "collapsed": false
   },
   "outputs": [],
   "source": [
    "kx,ky,zz=recipTransform((xB+0.8*modux),yB,1,1./7.,256.)"
   ]
  },
  {
   "cell_type": "markdown",
   "metadata": {
    "collapsed": false
   },
   "source": [
    "<p style=\"font-size:190%;\"<b>Generate a lattice + structural modulation fake image and take the FFT</b>.</p>"
   ]
  },
  {
   "cell_type": "code",
   "execution_count": 505,
   "metadata": {
    "collapsed": false
   },
   "outputs": [],
   "source": [
    "A_fakeimg=UnitCell('0.5 0.5 0.5 ', ['B'], 4)\n",
    "B_fakeimg=Supercell(A_fakeimg,np.array([[90,0,0],[0,90,0],[0,0,1]]))\n",
    "B_fakeimg_coords=B_fakeimg.coords*B_fakeimg.lattice_vectors[0][0]\n",
    "xB_fakeimg=B_fakeimg_coords[:,0]\n",
    "yB_fakeimg=B_fakeimg_coords[:,1]\n",
    "plt.plot(xB_fakeimg,yB_fakeimg,'.')\n",
    "plt.show()"
   ]
  },
  {
   "cell_type": "code",
   "execution_count": 627,
   "metadata": {
    "collapsed": true
   },
   "outputs": [],
   "source": [
    "deltax=np.sin(((2.*np.pi/4.)*(.334)*xB_fakeimg))\n",
    "deltay=np.sin(((2.*np.pi/4.)*(.334)*yB_fakeimg))"
   ]
  },
  {
   "cell_type": "code",
   "execution_count": 628,
   "metadata": {
    "collapsed": false
   },
   "outputs": [],
   "source": [
    "def rotate_lattice(lattice,theta=np.pi/60):\n",
    "\n",
    "    rot=np.array([[np.cos(theta),-np.sin(theta)],[np.sin(theta), np.cos(theta)]])\n",
    "    rotcoords=np.dot(rot, lattice.T).T\n",
    "    xB_rot=rotcoords[:,0]\n",
    "    yB_rot=rotcoords[:,1]\n",
    "\n",
    "    maxx=np.max(xB_rot)\n",
    "    minx=np.min(xB_rot)\n",
    "    maxy=np.max(yB_rot)\n",
    "    miny=np.min(yB_rot)\n",
    "\n",
    "    #Find the corners of the rotated square relative to original lattice vectors\n",
    "    ymaxx=yB_rot[np.where(np.abs(xB_rot-maxx)<1e-14)]\n",
    "    yminx=yB_rot[np.where(np.abs(xB_rot-minx)<1e-14)]\n",
    "    xminy=xB_rot[np.where(np.abs(yB_rot-miny)<1e-14)]\n",
    "    xmaxy=xB_rot[np.where(np.abs(yB_rot-maxy)<1e-14)]\n",
    "\n",
    "    idx1=xB_rot-xmaxy<1e-14\n",
    "    idx2=xB_rot-xminy>1e-14\n",
    "    idx3=yB_rot-ymaxx>1e-14\n",
    "    idx4=yB_rot-yminx<1e-14\n",
    "    idx_crop=idx1*idx2*idx3*idx4\n",
    "    \n",
    "    return xB_rot[idx_crop],yB_rot[idx_crop]"
   ]
  },
  {
   "cell_type": "code",
   "execution_count": 629,
   "metadata": {
    "collapsed": false
   },
   "outputs": [],
   "source": [
    "xB_modulated=xB_fakeimg+0.2*deltax\n",
    "yB_modulated=yB_fakeimg+0.2*deltay\n",
    "\n",
    "XY=np.vstack((xB_modulated,yB_modulated)).T\n",
    "xb_rot_mod,yb_rot_mod=rotate_lattice(XY,np.pi/50)\n",
    "plt.quiver(xB_fakeimg, yB_fakeimg, xB_modulated-xB_fakeimg, yB_modulated-yB_fakeimg,scale=7,width=.0020)\n",
    "plt.plot(xB_fakeimg,yB_fakeimg,'bo',ms=2)\n",
    "plt.xlim(100,200)\n",
    "plt.ylim(100,200)\n",
    "plt.figure()\n",
    "plt.plot(1024./np.max(xb_rot_mod)*xb_rot_mod, 1024./np.max(yb_rot_mod)*yb_rot_mod,'b.')\n",
    "#plt.plot(xB_modulated,yB_modulated,'k.',ms=8)\n",
    "plt.show()"
   ]
  },
  {
   "cell_type": "code",
   "execution_count": 574,
   "metadata": {
    "collapsed": false
   },
   "outputs": [],
   "source": [
    "xg_fake = np.linspace(75,1023 ,1023-75+1)\n",
    "yg_fake = np.linspace(75, 1023, 1023-75+1)\n",
    "xg_fake, yg_fake = np.meshgrid(xg_fake, yg_fake)\n",
    "\n",
    "dataFake=0\n",
    "#create data\n",
    "for (i,j) in zip(1024./np.max(xb_rot_mod)*xb_rot_mod,1024./np.max(yb_rot_mod)*yb_rot_mod):\n",
    "    dataFake = dataFake + twoD_Gaussian((xg_fake, yg_fake), 0.7+(np.random.rand(1)-0.5)/5.,i,j, 2.3, 2.3, 0)\n"
   ]
  },
  {
   "cell_type": "code",
   "execution_count": 567,
   "metadata": {
    "collapsed": false
   },
   "outputs": [],
   "source": [
    "plt.matshow((dataFake+0.0*np.random.poisson(dataFake)).reshape(1024-75,1024-75), cmap=cm.Greys_r)\n",
    "plt.savefig('test.tif', format='tif')\n",
    "plt.show()"
   ]
  },
  {
   "cell_type": "code",
   "execution_count": 575,
   "metadata": {
    "collapsed": false
   },
   "outputs": [],
   "source": [
    "fftFake=sp.fftpack.fft2(dataFake.reshape(1024-75,1024-75)[20:,20:])\n",
    "fftFake=sp.fftpack.fftshift(fftFake)\n",
    "pwrsp=np.abs(fftFake)**2\n",
    "\n",
    "plt.matshow(gaussian_filter(np.log(pwrsp+2),1.0),cmap=cm.Greys_r)\n",
    "plt.colorbar()\n",
    "\n",
    "plt.show()"
   ]
  },
  {
   "cell_type": "markdown",
   "metadata": {},
   "source": [
    "<p style=\"font-size:190%;\"<b>Modulations relative to an ideal lattice (Ben/Robby)</b>.</p>"
   ]
  },
  {
   "cell_type": "code",
   "execution_count": 27,
   "metadata": {
    "collapsed": false
   },
   "outputs": [],
   "source": [
    "from scipy.io import loadmat"
   ]
  },
  {
   "cell_type": "code",
   "execution_count": 28,
   "metadata": {
    "collapsed": false
   },
   "outputs": [],
   "source": [
    "mat=loadmat('SUM_08_atomtrack_fullfov.mat')"
   ]
  },
  {
   "cell_type": "code",
   "execution_count": 29,
   "metadata": {
    "collapsed": false
   },
   "outputs": [],
   "source": [
    "plt.plot(np.array(mat['x0_bragg']).ravel(), np.array(mat['y0_bragg']).ravel(),'b.')\n",
    "plt.plot(np.array(mat['x0']).ravel(), np.array(mat['y0']).ravel(),'k.')\n",
    "plt.show()"
   ]
  },
  {
   "cell_type": "code",
   "execution_count": 30,
   "metadata": {
    "collapsed": true
   },
   "outputs": [],
   "source": [
    "X0=np.array(mat['x0_bragg']).ravel()\n",
    "Y0=np.array(mat['y0_bragg']).ravel()\n",
    "\n",
    "U=np.array(mat['x0_bragg']).ravel()-np.array(mat['x0']).ravel()\n",
    "V=np.array(mat['y0_bragg']).ravel()-np.array(mat['y0']).ravel()\n",
    "\n",
    "d=np.abs(U+1j*V)\n",
    "theta=np.angle(U+1j*V ) \n",
    "\n",
    "\n",
    "idx1=X0>50\n",
    "idx2=X0<950\n",
    "idx3=Y0>50\n",
    "idx4=Y0<950\n",
    "idx=idx1*idx2*idx3*idx4"
   ]
  },
  {
   "cell_type": "code",
   "execution_count": 31,
   "metadata": {
    "collapsed": false
   },
   "outputs": [],
   "source": [
    "plt.matshow(imarray, cmap=cm.Greys_r, alpha=1)\n",
    "plt.plot(np.array(mat['x0']).ravel()-1,np.array(mat['y0']).ravel()-1,'k.',ms=3)\n",
    "plt.quiver( X0[idx]-1, Y0[idx]-1, \n",
    "           U[idx],V[idx],\n",
    "           theta[idx],\n",
    "           scale=20, units='width', cmap=cm.viridis)\n",
    "plt.colorbar()\n",
    "plt.xlim(0,1000)\n",
    "plt.ylim(0,1000)\n",
    "plt.show()"
   ]
  },
  {
   "cell_type": "code",
   "execution_count": 896,
   "metadata": {
    "collapsed": true
   },
   "outputs": [],
   "source": [
    "plt.matshow(imarray, cmap=cm.Greys_r)\n",
    "plt.plot(np.array(mat['x0']).ravel()-1,np.array(mat['y0']).ravel()-1,'b.',ms=5)\n",
    "plt.plot(x[idxACorrected], y[idxACorrected],'w.',ms=5)\n",
    "plt.show()"
   ]
  },
  {
   "cell_type": "code",
   "execution_count": 33,
   "metadata": {
    "collapsed": true
   },
   "outputs": [],
   "source": [
    "plt.hist(d[idx].ravel(),100)\n",
    "plt.show()\n",
    "idx2=d[idx]<.5"
   ]
  },
  {
   "cell_type": "code",
   "execution_count": 34,
   "metadata": {
    "collapsed": false
   },
   "outputs": [
    {
     "data": {
      "text/plain": [
       "<matplotlib.colorbar.Colorbar at 0x7f6a236a1b50>"
      ]
     },
     "execution_count": 34,
     "metadata": {},
     "output_type": "execute_result"
    }
   ],
   "source": [
    "from mpl_toolkits.axes_grid1 import make_axes_locatable\n",
    "import seaborn as sns\n",
    "import matplotlib.colors as col\n",
    "\n",
    "##### generate custom colormap\n",
    "def mkcmap(): \n",
    "    white = '#ffffff'\n",
    "    black = '#000000'\n",
    "    #red = '#ff0000'\n",
    "    red='#AA385E'\n",
    "    #blue = '#0000ff'\n",
    "    blue='#6280E2'\n",
    "    anglemap = col.LinearSegmentedColormap.from_list(\n",
    "        'anglemap', [black, red, white, blue, black], N=256, gamma=1)\n",
    "    return anglemap\n",
    "\n",
    "anglemap = mkcmap()\n",
    "huslmap = col.ListedColormap(sns.color_palette(\"husl\",512))\n",
    "\n",
    "f, ( ax1, ax2) = plt.subplots(1, 2)\n",
    "\n",
    "\n",
    "ax1.matshow(imarray, cmap=cm.Greys_r)\n",
    "im1=ax1.scatter(X0[idx][idx2]-1,Y0[idx][idx2]-1,c=d[idx][idx2], cmap=cm.viridis)\n",
    "ax1.set_yticks([])\n",
    "ax1.set_xticks([])\n",
    "ax1.set_xlim(0,1000)\n",
    "ax1.set_ylim(0,1000)\n",
    "\n",
    "div = make_axes_locatable(ax1)\n",
    "cax1 = div.append_axes(\"right\", size=\"6%\", pad=0.03)\n",
    "f.colorbar(im1, cax=cax1,format=\"%.3g\")\n",
    "#plt.colorbar()\n",
    "ax2.matshow(imarray, cmap=cm.Greys_r)\n",
    "im2=ax2.scatter(X0[idx]-1,Y0[idx]-1,c=theta[idx],cmap=anglemap)\n",
    "ax2.set_yticks([])\n",
    "ax2.set_xticks([])\n",
    "ax2.set_xlim(0,1000)\n",
    "ax2.set_ylim(0,1000)\n",
    "div = make_axes_locatable(ax2)\n",
    "cax2 = div.append_axes(\"right\", size=\"6%\", pad=0.03)\n",
    "f.colorbar(im2, cax=cax2,format=\"%.3g\")\n"
   ]
  },
  {
   "cell_type": "code",
   "execution_count": 35,
   "metadata": {
    "collapsed": false
   },
   "outputs": [],
   "source": [
    "f2, ( ax7, ax8) = plt.subplots(1, 2)\n",
    "\n",
    "ax7.matshow(imarray, cmap=cm.Greys_r)\n",
    "im7=ax7.scatter(X0[idx][idx2]-1,Y0[idx][idx2]-1,c=d[idx][idx2], cmap=cm.viridis)\n",
    "ax7.set_yticks([])\n",
    "ax7.set_xticks([])\n",
    "ax7.set_xlim(0,1000)\n",
    "ax7.set_ylim(0,1000)\n",
    "\n",
    "ax8.matshow(imbckgsub, cmap=cm.Greys_r)\n",
    "ax8.set_yticks([])\n",
    "ax8.set_xticks([])\n",
    "ax8.set_xlim(0,1000)\n",
    "ax8.set_ylim(0,1000)\n",
    "\n",
    "plt.grid()\n",
    "plt.show()"
   ]
  },
  {
   "cell_type": "code",
   "execution_count": 45,
   "metadata": {
    "collapsed": false
   },
   "outputs": [],
   "source": [
    "from mpl_toolkits.axes_grid1 import make_axes_locatable\n",
    "\n",
    "f, (ax3, ax4) = plt.subplots(1, 2)\n",
    "\n",
    "ax3.matshow(imarray, cmap=cm.Greys_r, alpha=1)\n",
    "ax3.plot(np.array(mat['x0']).ravel()-1,np.array(mat['y0']).ravel()-1,'k.',ms=3)\n",
    "im3=ax3.quiver( X0[idx][idx2]-1, Y0[idx][idx2]-1, \n",
    "           U[idx][idx2],V[idx][idx2],\n",
    "           theta[idx][idx2],\n",
    "           scale=16, units='width', cmap=anglemap)\n",
    "ax3.set_xlim(0,1000)\n",
    "ax3.set_ylim(0,1000)\n",
    "div = make_axes_locatable(ax3)\n",
    "cax3 = div.append_axes(\"right\", size=\"5%\", pad=0.05)\n",
    "f.colorbar(im3, cax=cax3,format=\"%.3g\")\n",
    "\n",
    "ax4.matshow(imarray, cmap=cm.Greys_r)\n",
    "im4=ax4.scatter(X0[idx]-1,Y0[idx]-1,c=theta[idx], cmap=anglemap)\n",
    "ax4.set_yticks([])\n",
    "ax4.set_xticks([])\n",
    "ax4.set_xlim(0,1000)\n",
    "ax4.set_ylim(0,1000)\n",
    "div = make_axes_locatable(ax4)\n",
    "cax4 = div.append_axes(\"right\", size=\"5%\", pad=0.05)\n",
    "f.colorbar(im4, cax=cax4,format=\"%.3g\")\n",
    "\n",
    "plt.show()"
   ]
  },
  {
   "cell_type": "markdown",
   "metadata": {
    "collapsed": false
   },
   "source": [
    "<p style=\"font-size:190%;\"<b>Lock-In Phase Detection Method</b>.</p>"
   ]
  },
  {
   "cell_type": "code",
   "execution_count": 88,
   "metadata": {
    "collapsed": false
   },
   "outputs": [],
   "source": [
    "def create_mask(npix=1024,radius=10):\n",
    "    mask=np.zeros((npix,npix))\n",
    "    for i in np.linspace(-npix/2.+1.,npix/2., npix):\n",
    "            for j in np.linspace(-npix/2.+1.,npix/2., npix):\n",
    "                if (i)**2 + (j)**2 < (radius)**2:\n",
    "                    mask[npix/2.-i,npix/2.-j]=1\n",
    "    return mask"
   ]
  },
  {
   "cell_type": "code",
   "execution_count": 86,
   "metadata": {
    "collapsed": false
   },
   "outputs": [],
   "source": [
    "def generate_ref_image(qx,qy, npix=1024):\n",
    "    cosRef=np.zeros((npix,npix))\n",
    "    sinRef=np.zeros((npix,npix))\n",
    "\n",
    "    for i in np.arange(0,npix-1):\n",
    "            for j in np.arange(0,npix-1):\n",
    "                cosRef[i,j]=np.cos(qx*i + qy*j)\n",
    "                sinRef[i,j]=np.sin(qx*i + qy*j)\n",
    "    \n",
    "    return cosRef, sinRef "
   ]
  },
  {
   "cell_type": "code",
   "execution_count": 87,
   "metadata": {
    "collapsed": false
   },
   "outputs": [],
   "source": [
    "def _shift_to_origin(tmp, x0,y0,xf,yf):\n",
    "    non = lambda s: s if s<0 else None\n",
    "    mom = lambda s: max(0,s)\n",
    "    ox, oy = -(xf-x0), -(yf-y0) \n",
    "    shift_tmp = np.zeros_like(tmp)\n",
    "    shift_tmp[mom(oy):non(oy), mom(ox):non(ox)] = tmp[mom(-oy):non(-oy), mom(-ox):non(-ox)]\n",
    "    return shift_tmp"
   ]
  },
  {
   "cell_type": "code",
   "execution_count": 129,
   "metadata": {
    "collapsed": true
   },
   "outputs": [],
   "source": [
    "xsize,ysize=np.shape(imarray)\n",
    "pk=idxbragg[-1,9]\n",
    "\n",
    "plt.matshow(gaussian_filter(fftmag,2),cmap=cm.Greys_r)\n",
    "plt.plot(xbraggpk,ybraggpk,'.')\n",
    "plt.plot(xbraggpk[pk],ybraggpk[pk],'r.', ms=6)\n",
    "plt.show()"
   ]
  },
  {
   "cell_type": "code",
   "execution_count": 135,
   "metadata": {
    "collapsed": false
   },
   "outputs": [],
   "source": [
    "qx=2*np.pi*(xsize/2.-xbraggpk[pk])/xsize\n",
    "qy=2*np.pi*(ysize/2.-ybraggpk[pk])/ysize\n",
    "\n",
    "cosRef,sinRef=generate_ref_image(qx,qy,xsize)\n",
    "\n",
    "outA=cosRef*filtered_im\n",
    "outB=sinRef*filtered_im\n",
    "\n",
    "mask=create_mask(radius=5)\n",
    "\n",
    "fftoutA=get_fft(outA)\n",
    "fftoutB=get_fft(outB)\n",
    "\n",
    "fftoutA=_shift_to_origin(fftoutA, xbraggpk[idxcenter], ybraggpk[idxcenter],xbraggpk[pk], ybraggpk[pk],)\n",
    "fftoutA=_shift_to_origin(fftoutB, xbraggpk[idxcenter], ybraggpk[idxcenter], xbraggpk[pk], ybraggpk[pk])"
   ]
  },
  {
   "cell_type": "code",
   "execution_count": 136,
   "metadata": {
    "collapsed": false
   },
   "outputs": [],
   "source": [
    "filteredfftA=mask*fftoutA\n",
    "filteredfftB=mask*fftoutB\n",
    "\n",
    "finalA=sp.fftpack.ifft2(filteredfftA)\n",
    "finalB=sp.fftpack.ifft2(filteredfftB)\n",
    "\n",
    "final=finalA+1j*finalB\n",
    "theta_lf=np.angle(final)\n",
    "\n",
    "plt.matshow(theta_lf, cmap=cm.viridis)\n",
    "plt.show()"
   ]
  },
  {
   "cell_type": "code",
   "execution_count": 134,
   "metadata": {
    "collapsed": false
   },
   "outputs": [],
   "source": [
    "phi=np.zeros((npix,npix))\n",
    "\n",
    "for i in np.arange(0,npix-1):\n",
    "    for j in np.arange(0,npix-1):\n",
    "        phi[i,j] = (qx*i + qy*j + np.pi/2.+theta_lf[i,j])%2*np.pi\n",
    "plt.imshow(phi, cmap=cm.viridis, interpolation='nearest')\n",
    "#plt.plot(x[idxACorrected], y[idxACorrected],'w.',ms=10)\n",
    "plt.colorbar()\n",
    "plt.show()"
   ]
  },
  {
   "cell_type": "code",
   "execution_count": null,
   "metadata": {
    "collapsed": true
   },
   "outputs": [],
   "source": []
  }
 ],
 "metadata": {
  "kernelspec": {
   "display_name": "Python 2",
   "language": "python",
   "name": "python2"
  },
  "language_info": {
   "codemirror_mode": {
    "name": "ipython",
    "version": 2
   },
   "file_extension": ".py",
   "mimetype": "text/x-python",
   "name": "python",
   "nbconvert_exporter": "python",
   "pygments_lexer": "ipython2",
   "version": "2.7.11"
  }
 },
 "nbformat": 4,
 "nbformat_minor": 0
}
